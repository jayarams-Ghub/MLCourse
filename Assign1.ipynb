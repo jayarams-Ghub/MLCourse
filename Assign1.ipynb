{
 "cells": [
  {
   "cell_type": "code",
   "execution_count": 1,
   "metadata": {},
   "outputs": [],
   "source": [
    "# Q1 - Install Jupyter notebook and run the first program and share the screenshot of the output. "
   ]
  },
  {
   "cell_type": "code",
   "execution_count": 2,
   "metadata": {},
   "outputs": [],
   "source": [
    "x = 10"
   ]
  },
  {
   "cell_type": "code",
   "execution_count": 3,
   "metadata": {},
   "outputs": [
    {
     "data": {
      "text/plain": [
       "10"
      ]
     },
     "execution_count": 3,
     "metadata": {},
     "output_type": "execute_result"
    }
   ],
   "source": [
    "x"
   ]
  },
  {
   "cell_type": "code",
   "execution_count": 4,
   "metadata": {},
   "outputs": [
    {
     "name": "stdout",
     "output_type": "stream",
     "text": [
      "x is greater than 8\n"
     ]
    }
   ],
   "source": [
    "if x < 5 :\n",
    "    print(\"x is greater than 5\")\n",
    "elif x < 8 :\n",
    "    print(\"x is less than 8\")\n",
    "else :\n",
    "    print(\"x is greater than 8\")"
   ]
  },
  {
   "cell_type": "code",
   "execution_count": 5,
   "metadata": {},
   "outputs": [],
   "source": [
    "first = \"Jayaraman\"\n",
    "Last = \"Srinivasan\""
   ]
  },
  {
   "cell_type": "code",
   "execution_count": 6,
   "metadata": {
    "scrolled": true
   },
   "outputs": [
    {
     "name": "stdout",
     "output_type": "stream",
     "text": [
      "The name is, Jayaraman Srinivasan\n"
     ]
    }
   ],
   "source": [
    "print(\"The name is, \" + first + \" \"+ Last)"
   ]
  },
  {
   "cell_type": "markdown",
   "metadata": {},
   "source": [
    "# Q1 Ends"
   ]
  },
  {
   "cell_type": "code",
   "execution_count": 7,
   "metadata": {},
   "outputs": [],
   "source": [
    "# Q2 - Write a program which will find all such numbers which are divisible by 7 but are not a multiple of 5, between \n",
    "# 2000 and 3200 (both included). \n",
    "# The numbers obtained should be printed in a comma-separated sequence on a single line. "
   ]
  },
  {
   "cell_type": "code",
   "execution_count": 8,
   "metadata": {},
   "outputs": [
    {
     "name": "stdout",
     "output_type": "stream",
     "text": [
      "the numbers divisible by 7 but not by 5 are:  \n",
      "\n",
      "[2002, 2009, 2016, 2023, 2037, 2044, 2051, 2058, 2072, 2079, 2086, 2093, 2107, 2114, 2121, 2128, 2142, 2149, 2156, 2163, 2177, 2184, 2191, 2198, 2212, 2219, 2226, 2233, 2247, 2254, 2261, 2268, 2282, 2289, 2296, 2303, 2317, 2324, 2331, 2338, 2352, 2359, 2366, 2373, 2387, 2394, 2401, 2408, 2422, 2429, 2436, 2443, 2457, 2464, 2471, 2478, 2492, 2499, 2506, 2513, 2527, 2534, 2541, 2548, 2562, 2569, 2576, 2583, 2597, 2604, 2611, 2618, 2632, 2639, 2646, 2653, 2667, 2674, 2681, 2688, 2702, 2709, 2716, 2723, 2737, 2744, 2751, 2758, 2772, 2779, 2786, 2793, 2807, 2814, 2821, 2828, 2842, 2849, 2856, 2863, 2877, 2884, 2891, 2898, 2912, 2919, 2926, 2933, 2947, 2954, 2961, 2968, 2982, 2989, 2996, 3003, 3017, 3024, 3031, 3038, 3052, 3059, 3066, 3073, 3087, 3094, 3101, 3108, 3122, 3129, 3136, 3143, 3157, 3164, 3171, 3178, 3192, 3199]\n",
      "\n",
      " \n",
      " There are a total of 138  numbers which meet the criteria \n",
      "\n"
     ]
    }
   ],
   "source": [
    "# initialize the variables; resultset as a list\n",
    "x = 2000\n",
    "y = 3200\n",
    "z = 0\n",
    "resultset = []\n",
    "\n",
    "# iterate \n",
    "while x <= y :\n",
    "    if (x % 7) == 0 and (x % 5) != 0 :\n",
    "            resultset.append(x)\n",
    "            x = x+1\n",
    "            z = z+1\n",
    "    else :\n",
    "        x = x+1\n",
    "\n",
    "# print the results\n",
    "print(\"the numbers divisible by 7 but not by 5 are:  \\n\")    \n",
    "print(resultset)\n",
    "print(\"\\n \\n There are a total of \" + str(z) + \"  numbers which meet the criteria \\n\")\n"
   ]
  },
  {
   "cell_type": "markdown",
   "metadata": {},
   "source": [
    "# Q2 Ends"
   ]
  },
  {
   "cell_type": "code",
   "execution_count": 9,
   "metadata": {},
   "outputs": [],
   "source": [
    "# Q3 - Write a Python program to accept the user's first and last name and then \n",
    "# getting them printed in the the reverse order with a space between first name and last name. "
   ]
  },
  {
   "cell_type": "code",
   "execution_count": 10,
   "metadata": {},
   "outputs": [
    {
     "name": "stdout",
     "output_type": "stream",
     "text": [
      "Your First Name:   Jayaraman\n",
      ".. and your Last Name is: Srinivasan\n",
      "\n",
      " \n",
      " Your full name is:  Jayaraman Srinivasan\n",
      "\n",
      "Lastname, firstname: Srinivasan Jayaraman\n",
      "\n",
      "..printing it in the reverse order:  namarayaJ nasavinirS\n",
      "\n"
     ]
    }
   ],
   "source": [
    "# Initiate variables\n",
    "\n",
    "first = []\n",
    "last = []\n",
    "\n",
    "# Accept names\n",
    "first = input(\"Your First Name:   \")\n",
    "last = input(\".. and your Last Name is: \")\n",
    "\n",
    "#Printing the names in the reverse order\n",
    "print(\"\\n \\n Your full name is:  \" + first + \" \" + last + \"\\n\")\n",
    "print(\"Lastname, firstname: \" + last + \" \" + first +\"\\n\")\n",
    "print(\"..printing it in the reverse order:  \" + first[::-1] + \" \" + last[::-1] + \"\\n\")"
   ]
  },
  {
   "cell_type": "markdown",
   "metadata": {},
   "source": [
    "# Q3 Ends"
   ]
  },
  {
   "cell_type": "code",
   "execution_count": 11,
   "metadata": {},
   "outputs": [],
   "source": [
    "# Q4 - Write a Python program to find the volume of a sphere with diameter 12 cm.  \n",
    "# Formula: V=4/3 * π * r 3 "
   ]
  },
  {
   "cell_type": "code",
   "execution_count": 12,
   "metadata": {},
   "outputs": [
    {
     "name": "stdout",
     "output_type": "stream",
     "text": [
      "The volume of the sphere of 12 cm dia is:  904.78\n"
     ]
    }
   ],
   "source": [
    "# importing math library for pi and power\n",
    "import math\n",
    "\n",
    "# calculating the volume of a sphere\n",
    "V = 0.0\n",
    "dia = 12\n",
    "r = dia /2 \n",
    "V = (4/3)* math.pi * math.pow(r,3)\n",
    "\n",
    "# printing the volume\n",
    "print(\"The volume of the sphere of 12 cm dia is:  \" + str(round(V,2)))"
   ]
  },
  {
   "cell_type": "code",
   "execution_count": 13,
   "metadata": {},
   "outputs": [],
   "source": [
    "# Method 2 - manual"
   ]
  },
  {
   "cell_type": "code",
   "execution_count": 14,
   "metadata": {},
   "outputs": [
    {
     "name": "stdout",
     "output_type": "stream",
     "text": [
      "The volume of the sphere of 12 cm dia is:  904.78\n"
     ]
    }
   ],
   "source": [
    "# calculating the volume of a sphere\n",
    "V = 0.0\n",
    "dia = 12\n",
    "r = dia/2\n",
    "V = (4/3)* 3.141592 * (r * r * r)\n",
    "\n",
    "# printing the volume\n",
    "print(\"The volume of the sphere of 12 cm dia is:  \" + str(round(V,2)))"
   ]
  },
  {
   "cell_type": "markdown",
   "metadata": {},
   "source": [
    "# Q4 Ends"
   ]
  },
  {
   "cell_type": "markdown",
   "metadata": {},
   "source": [
    "# TASK 2"
   ]
  },
  {
   "cell_type": "code",
   "execution_count": 15,
   "metadata": {},
   "outputs": [],
   "source": [
    "# Q1 - "
   ]
  },
  {
   "cell_type": "code",
   "execution_count": 16,
   "metadata": {},
   "outputs": [
    {
     "name": "stdout",
     "output_type": "stream",
     "text": [
      "\n",
      " Please enter numbers.. seperated by Commas. NO ALPHABETS allowed ! 10,20,30,40,50,60,70,80,90,100\n",
      "\n",
      " The resultset is :  \n",
      "[10, 20, 30, 40, 50, 60, 70, 80, 90, 100]\n"
     ]
    }
   ],
   "source": [
    "# initialize variables\n",
    "\n",
    "resultset = []\n",
    "i=0\n",
    "tempstr = \"\"\n",
    "\n",
    "# accept the input string. The last character can be comma or with out a comma\n",
    "\n",
    "inputstring = input(\"\\n Please enter numbers.. seperated by Commas. NO ALPHABETS allowed ! \")\n",
    "for i in inputstring:\n",
    "    if i == \",\" :\n",
    "        resultset.append(int(tempstr))\n",
    "        tempstr = \"\"\n",
    "        continue\n",
    "    else :\n",
    "        tempstr = tempstr + str(i)\n",
    "        continue\n",
    "\n",
    "# Handle the last input character. append the last stored string if the input string ended with out a comma        \n",
    "if (tempstr != \"\") :\n",
    "   resultset.append(int(tempstr))\n",
    "\n",
    "# print the results\n",
    "\n",
    "print(\"\\n The resultset is :  \")\n",
    "print(resultset)\n"
   ]
  },
  {
   "cell_type": "markdown",
   "metadata": {},
   "source": [
    "# Task 2 - Q1 Ends"
   ]
  },
  {
   "cell_type": "code",
   "execution_count": 17,
   "metadata": {},
   "outputs": [],
   "source": [
    "# Q2 - Print the stars Rangoli as given"
   ]
  },
  {
   "cell_type": "code",
   "execution_count": 18,
   "metadata": {},
   "outputs": [
    {
     "name": "stdout",
     "output_type": "stream",
     "text": [
      "\n",
      "\n",
      "\n",
      "*\n",
      "**\n",
      "***\n",
      "****\n",
      "*****\n",
      "****\n",
      "***\n",
      "**\n",
      "*\n"
     ]
    }
   ],
   "source": [
    "i=0\n",
    "x=0\n",
    "printstr = \"\"\n",
    "print(\"\\n\")\n",
    "\n",
    "while (i <= 5) :\n",
    "    x = 1\n",
    "    while x <= i :\n",
    "        printstr = printstr + \"*\"\n",
    "        x = x+1\n",
    "    print(printstr)\n",
    "    printstr = \"\"\n",
    "    if (i == 5) :\n",
    "        i = i-1\n",
    "        while i > 0 :\n",
    "            x = 1\n",
    "            while (x <= i) :\n",
    "                printstr = printstr + \"*\"\n",
    "                x = x+1\n",
    "            print(printstr)\n",
    "            printstr = \"\"\n",
    "            i = i-1\n",
    "        break    \n",
    "    else :\n",
    "         i = i+1\n",
    "    \n"
   ]
  },
  {
   "cell_type": "markdown",
   "metadata": {},
   "source": [
    "# Task 2 - Q2 Ends"
   ]
  },
  {
   "cell_type": "code",
   "execution_count": 19,
   "metadata": {},
   "outputs": [],
   "source": [
    "# Q3 - Write a Python program to reverse a word after accepting the input from the user. "
   ]
  },
  {
   "cell_type": "code",
   "execution_count": 1,
   "metadata": {},
   "outputs": [
    {
     "name": "stdout",
     "output_type": "stream",
     "text": [
      "Enter the String you want to reverse:   Parallogram\n",
      "..printing it in the reverse order:  margollaraP\n",
      "\n"
     ]
    }
   ],
   "source": [
    "# Initiate variables\n",
    "\n",
    "inputstring = []\n",
    "\n",
    "# Accept string\n",
    "inputstring = input(\"Enter the String you want to reverse:   \")\n",
    "\n",
    "\n",
    "#Printing the string in the reverse order\n",
    "print(\"..printing it in the reverse order:  \" + inputstring[::-1] + \"\\n\")"
   ]
  },
  {
   "cell_type": "markdown",
   "metadata": {},
   "source": [
    "# Task 2 - Q3 Ends"
   ]
  },
  {
   "cell_type": "code",
   "execution_count": null,
   "metadata": {},
   "outputs": [],
   "source": [
    "# Q4 - Write a Python Program to print the given string in the format specified in the ​sample output. "
   ]
  },
  {
   "cell_type": "code",
   "execution_count": 1,
   "metadata": {},
   "outputs": [
    {
     "name": "stdout",
     "output_type": "stream",
     "text": [
      "\n",
      " WE, THE PEOPLE OF INDIA,\n",
      "\t having solemnly resolved to constitute India into a SOVEREIGN, !\n",
      "\t \t SOCIALIST, SECULAR, DEMOCRATIC REPUBLIC\n",
      "\t \t  and to secure to all its citizens\n"
     ]
    }
   ],
   "source": [
    "print(\"\\n WE, THE PEOPLE OF INDIA,\")\n",
    "print(\"\\t having solemnly resolved to constitute India into a SOVEREIGN, !\")\n",
    "print(\"\\t \\t SOCIALIST, SECULAR, DEMOCRATIC REPUBLIC\")\n",
    "print(\"\\t \\t\" + \"  and to secure to all its citizens\")"
   ]
  },
  {
   "cell_type": "markdown",
   "metadata": {},
   "source": [
    "# Task 2 - Q4 Ends"
   ]
  },
  {
   "cell_type": "markdown",
   "metadata": {},
   "source": [
    "# Assignment 1 Complete. "
   ]
  }
 ],
 "metadata": {
  "kernelspec": {
   "display_name": "Python 3",
   "language": "python",
   "name": "python3"
  },
  "language_info": {
   "codemirror_mode": {
    "name": "ipython",
    "version": 3
   },
   "file_extension": ".py",
   "mimetype": "text/x-python",
   "name": "python",
   "nbconvert_exporter": "python",
   "pygments_lexer": "ipython3",
   "version": "3.7.4"
  }
 },
 "nbformat": 4,
 "nbformat_minor": 2
}
